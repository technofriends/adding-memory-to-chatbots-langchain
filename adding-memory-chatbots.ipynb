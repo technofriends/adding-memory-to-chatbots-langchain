{
 "cells": [
  {
   "cell_type": "markdown",
   "metadata": {},
   "source": [
    "### Adding Memory to Chatbots ###\n",
    "\n",
    "Following topics will be covered as part of today's video. \n",
    "1. We will build a small chatbot with Langchain and Openai. \n",
    "2. We will then add memory to the chatbot using various langchain modules. \n",
    "3. ChatMessageHistory\n",
    "4. ConversationBufferMemory\n",
    "5. ConversationSummaryMemory"
   ]
  },
  {
   "cell_type": "code",
   "execution_count": 1,
   "metadata": {},
   "outputs": [],
   "source": [
    "import os\n",
    "import langchain\n",
    "\n",
    "from dotenv import load_dotenv, find_dotenv\n",
    "\n"
   ]
  },
  {
   "cell_type": "code",
   "execution_count": 2,
   "metadata": {},
   "outputs": [],
   "source": [
    "from langchain_openai import ChatOpenAI\n",
    "from langchain_core.prompts.chat import ChatPromptTemplate\n"
   ]
  },
  {
   "cell_type": "code",
   "execution_count": 3,
   "metadata": {},
   "outputs": [
    {
     "data": {
      "text/plain": [
       "AIMessage(content='Apple\\'s mission statement is: \"Apple designs Macs, the best personal computers in the world, along with OS X, iLife, iWork and professional software. Apple leads the digital music revolution with its iPods and iTunes online store. Apple has reinvented the mobile phone with its revolutionary iPhone and App Store, and is defining the future of mobile media and computing devices with iPad.\"', response_metadata={'token_usage': {'completion_tokens': 78, 'prompt_tokens': 38, 'total_tokens': 116}, 'model_name': 'gpt-3.5-turbo', 'system_fingerprint': 'fp_c2295e73ad', 'finish_reason': 'stop', 'logprobs': None}, id='run-aab4a9c2-3692-41c9-a2e1-0326390c708b-0')"
      ]
     },
     "execution_count": 3,
     "metadata": {},
     "output_type": "execute_result"
    }
   ],
   "source": [
    "llm = ChatOpenAI(temperature=0, api_key=os.getenv(\"OPENAI_API_KEY\"))\n",
    "\n",
    "# create a chat prompt template\n",
    "\n",
    "prompt_template = ChatPromptTemplate.from_messages([\n",
    "    (\"system\", \" you are a helpful assistant who knows a lot about Apple as a company.\"),\n",
    "    (\"human\", \"Respond to this question : {question}\")\n",
    "\n",
    "])\n",
    "\n",
    "full_prompt = prompt_template.format_messages(question=\"What is Apple's mission statement?\")\n",
    "llm.invoke(full_prompt)"
   ]
  },
  {
   "cell_type": "code",
   "execution_count": 4,
   "metadata": {},
   "outputs": [
    {
     "name": "stdout",
     "output_type": "stream",
     "text": [
      "[SystemMessage(content=' you are a helpful assistant who knows a lot about Apple as a company.'), HumanMessage(content=\"Respond to this question : What is Apple's mission statement?\")]\n"
     ]
    }
   ],
   "source": [
    "print(full_prompt)"
   ]
  },
  {
   "cell_type": "code",
   "execution_count": 5,
   "metadata": {},
   "outputs": [
    {
     "data": {
      "text/plain": [
       "AIMessage(content='Earlier, you asked about Apple as a company and its history, products, or any other related information. How can I assist you further with your query about Apple?', response_metadata={'token_usage': {'completion_tokens': 33, 'prompt_tokens': 37, 'total_tokens': 70}, 'model_name': 'gpt-3.5-turbo', 'system_fingerprint': 'fp_c2295e73ad', 'finish_reason': 'stop', 'logprobs': None}, id='run-e258acf6-1f36-43aa-b0e2-73e4a11b3de5-0')"
      ]
     },
     "execution_count": 5,
     "metadata": {},
     "output_type": "execute_result"
    }
   ],
   "source": [
    "full_prompt = prompt_template.format_messages(question=\"What did i ask earlier?\")\n",
    "llm.invoke(full_prompt)\n"
   ]
  },
  {
   "cell_type": "code",
   "execution_count": 6,
   "metadata": {},
   "outputs": [
    {
     "data": {
      "text/plain": [
       "[AIMessage(content='Hi Ask me anything about Apple as a company'),\n",
       " HumanMessage(content=\"What is Apple's mission statement?\")]"
      ]
     },
     "execution_count": 6,
     "metadata": {},
     "output_type": "execute_result"
    }
   ],
   "source": [
    "### ChatMessageHistory\n",
    "\n",
    "from langchain.memory import ChatMessageHistory\n",
    "\n",
    "from langchain_openai import ChatOpenAI\n",
    "\n",
    "chat = ChatOpenAI(temperature=0)\n",
    "history = ChatMessageHistory()\n",
    "\n",
    "history.add_ai_message(\"Hi Ask me anything about Apple as a company\")\n",
    "history.add_user_message(\"What is Apple's mission statement?\")\n",
    "\n",
    "history.messages"
   ]
  },
  {
   "cell_type": "code",
   "execution_count": 7,
   "metadata": {},
   "outputs": [],
   "source": [
    "response = chat.invoke(history.messages)\n",
    "history.add_ai_message(response)"
   ]
  },
  {
   "cell_type": "code",
   "execution_count": 8,
   "metadata": {},
   "outputs": [
    {
     "data": {
      "text/plain": [
       "[AIMessage(content='Hi Ask me anything about Apple as a company'),\n",
       " HumanMessage(content=\"What is Apple's mission statement?\"),\n",
       " AIMessage(content='Apple\\'s mission statement is: \"Apple designs Macs, the best personal computers in the world, along with OS X, iLife, iWork and professional software. Apple leads the digital music revolution with its iPods and iTunes online store. Apple has reinvented the mobile phone with its revolutionary iPhone and App Store, and is defining the future of mobile media and computing devices with iPad.\"', response_metadata={'token_usage': {'completion_tokens': 78, 'prompt_tokens': 27, 'total_tokens': 105}, 'model_name': 'gpt-3.5-turbo', 'system_fingerprint': 'fp_caf95bb1ae', 'finish_reason': 'stop', 'logprobs': None}, id='run-df2bf37c-05bc-42c0-a753-82ad3c6ff78e-0')]"
      ]
     },
     "execution_count": 8,
     "metadata": {},
     "output_type": "execute_result"
    }
   ],
   "source": [
    "history.messages"
   ]
  },
  {
   "cell_type": "code",
   "execution_count": 9,
   "metadata": {},
   "outputs": [
    {
     "data": {
      "text/plain": [
       "[AIMessage(content='Hi Ask me anything about Apple as a company'),\n",
       " HumanMessage(content=\"What is Apple's mission statement?\"),\n",
       " AIMessage(content='Apple\\'s mission statement is: \"Apple designs Macs, the best personal computers in the world, along with OS X, iLife, iWork and professional software. Apple leads the digital music revolution with its iPods and iTunes online store. Apple has reinvented the mobile phone with its revolutionary iPhone and App Store, and is defining the future of mobile media and computing devices with iPad.\"', response_metadata={'token_usage': {'completion_tokens': 78, 'prompt_tokens': 27, 'total_tokens': 105}, 'model_name': 'gpt-3.5-turbo', 'system_fingerprint': 'fp_caf95bb1ae', 'finish_reason': 'stop', 'logprobs': None}, id='run-df2bf37c-05bc-42c0-a753-82ad3c6ff78e-0'),\n",
       " HumanMessage(content='Can you summarize your last response'),\n",
       " AIMessage(content=\"Apple's mission is to design the best personal computers, software, and digital devices like iPods, iPhones, and iPads, leading the way in innovation and technology.\", response_metadata={'token_usage': {'completion_tokens': 34, 'prompt_tokens': 119, 'total_tokens': 153}, 'model_name': 'gpt-3.5-turbo', 'system_fingerprint': 'fp_c2295e73ad', 'finish_reason': 'stop', 'logprobs': None}, id='run-c9690739-0d17-46a2-a6f5-9b9f079d9cd7-0')]"
      ]
     },
     "execution_count": 9,
     "metadata": {},
     "output_type": "execute_result"
    }
   ],
   "source": [
    "history.add_user_message(\"Can you summarize your last response\")\n",
    "history.add_ai_message(chat.invoke(history.messages))\n",
    "\n",
    "history.messages"
   ]
  },
  {
   "cell_type": "code",
   "execution_count": 10,
   "metadata": {},
   "outputs": [
    {
     "data": {
      "text/plain": [
       "AIMessage(content=\"You asked about Apple's mission statement.\", response_metadata={'token_usage': {'completion_tokens': 8, 'prompt_tokens': 170, 'total_tokens': 178}, 'model_name': 'gpt-3.5-turbo', 'system_fingerprint': 'fp_c2295e73ad', 'finish_reason': 'stop', 'logprobs': None}, id='run-e8b69c01-2c5e-4956-ace5-2552b72383d6-0')"
      ]
     },
     "execution_count": 10,
     "metadata": {},
     "output_type": "execute_result"
    }
   ],
   "source": [
    "history.add_user_message(\"What was the first thing i asked you?\")\n",
    "\n",
    "chat.invoke(history.messages)"
   ]
  },
  {
   "cell_type": "code",
   "execution_count": 11,
   "metadata": {},
   "outputs": [],
   "source": [
    "## ConversationBufferMemory ##\n",
    "\n",
    "from langchain.memory import ConversationBufferMemory\n",
    "from langchain_openai import ChatOpenAI, OpenAI\n",
    "from langchain.chains import ConversationChain\n"
   ]
  },
  {
   "cell_type": "code",
   "execution_count": 12,
   "metadata": {},
   "outputs": [],
   "source": [
    "chat = OpenAI(temperature=0)\n",
    "memory = ConversationBufferMemory(size=5)  # sliding window buffer of size 5\n",
    "buffer_chain = ConversationChain(llm=chat, memory=memory, verbose=True)"
   ]
  },
  {
   "cell_type": "code",
   "execution_count": 13,
   "metadata": {},
   "outputs": [
    {
     "name": "stdout",
     "output_type": "stream",
     "text": [
      "\n",
      "\n",
      "\u001b[1m> Entering new ConversationChain chain...\u001b[0m\n",
      "Prompt after formatting:\n",
      "\u001b[32;1m\u001b[1;3mThe following is a friendly conversation between a human and an AI. The AI is talkative and provides lots of specific details from its context. If the AI does not know the answer to a question, it truthfully says it does not know.\n",
      "\n",
      "Current conversation:\n",
      "\n",
      "Human: What is Apple's mission statement?\n",
      "AI:\u001b[0m\n",
      "\n",
      "\u001b[1m> Finished chain.\u001b[0m\n",
      "\n",
      "\n",
      "\u001b[1m> Entering new ConversationChain chain...\u001b[0m\n",
      "Prompt after formatting:\n",
      "\u001b[32;1m\u001b[1;3mThe following is a friendly conversation between a human and an AI. The AI is talkative and provides lots of specific details from its context. If the AI does not know the answer to a question, it truthfully says it does not know.\n",
      "\n",
      "Current conversation:\n",
      "Human: What is Apple's mission statement?\n",
      "AI:  Apple's mission statement is \"to bring the best user experience to its customers through its innovative hardware, software, and services.\" This statement reflects the company's focus on creating products that are user-friendly and seamlessly integrated. It also highlights their commitment to constantly pushing the boundaries of technology and providing top-notch customer service.\n",
      "Human: Summarize your last response\n",
      "AI:\u001b[0m\n",
      "\n",
      "\u001b[1m> Finished chain.\u001b[0m\n",
      "\n",
      "\n",
      "\u001b[1m> Entering new ConversationChain chain...\u001b[0m\n",
      "Prompt after formatting:\n",
      "\u001b[32;1m\u001b[1;3mThe following is a friendly conversation between a human and an AI. The AI is talkative and provides lots of specific details from its context. If the AI does not know the answer to a question, it truthfully says it does not know.\n",
      "\n",
      "Current conversation:\n",
      "Human: What is Apple's mission statement?\n",
      "AI:  Apple's mission statement is \"to bring the best user experience to its customers through its innovative hardware, software, and services.\" This statement reflects the company's focus on creating products that are user-friendly and seamlessly integrated. It also highlights their commitment to constantly pushing the boundaries of technology and providing top-notch customer service.\n",
      "Human: Summarize your last response\n",
      "AI:  My last response was about Apple's mission statement, which is focused on providing the best user experience through innovative products and top-notch customer service.\n",
      "Human: Summarize it in even lesser words\n",
      "AI:\u001b[0m\n",
      "\n",
      "\u001b[1m> Finished chain.\u001b[0m\n",
      "\n",
      "\n",
      "\u001b[1m> Entering new ConversationChain chain...\u001b[0m\n",
      "Prompt after formatting:\n",
      "\u001b[32;1m\u001b[1;3mThe following is a friendly conversation between a human and an AI. The AI is talkative and provides lots of specific details from its context. If the AI does not know the answer to a question, it truthfully says it does not know.\n",
      "\n",
      "Current conversation:\n",
      "Human: What is Apple's mission statement?\n",
      "AI:  Apple's mission statement is \"to bring the best user experience to its customers through its innovative hardware, software, and services.\" This statement reflects the company's focus on creating products that are user-friendly and seamlessly integrated. It also highlights their commitment to constantly pushing the boundaries of technology and providing top-notch customer service.\n",
      "Human: Summarize your last response\n",
      "AI:  My last response was about Apple's mission statement, which is focused on providing the best user experience through innovative products and top-notch customer service.\n",
      "Human: Summarize it in even lesser words\n",
      "AI:  Apple's mission is to create user-friendly products and provide excellent customer service through innovation.\n",
      "Human: What was the first thing i asked you?\n",
      "AI:\u001b[0m\n",
      "\n",
      "\u001b[1m> Finished chain.\u001b[0m\n"
     ]
    },
    {
     "data": {
      "text/plain": [
       "\" You asked me about Apple's mission statement.\""
      ]
     },
     "execution_count": 13,
     "metadata": {},
     "output_type": "execute_result"
    }
   ],
   "source": [
    "buffer_chain.predict(input = \"What is Apple's mission statement?\")\n",
    "buffer_chain.predict(input=\"Summarize your last response\")\n",
    "buffer_chain.predict(input=\"Summarize it in even lesser words\")\n",
    "buffer_chain.predict(input=\"What was the first thing i asked you?\")"
   ]
  },
  {
   "cell_type": "code",
   "execution_count": 14,
   "metadata": {},
   "outputs": [],
   "source": [
    "### ConversationSummaryMemory ###\n",
    "\n",
    "from langchain.memory import ConversationSummaryMemory\n",
    "from langchain_openai import ChatOpenAI, OpenAI"
   ]
  },
  {
   "cell_type": "code",
   "execution_count": 15,
   "metadata": {},
   "outputs": [],
   "source": [
    "chat = OpenAI(temperature=0, model_name=\"gpt-3.5-turbo-instruct\")\n",
    "memory = ConversationSummaryMemory(llm=chat)\n",
    "\n",
    "summary_chain = ConversationChain(llm=chat, memory=memory, verbose=True)"
   ]
  },
  {
   "cell_type": "code",
   "execution_count": 16,
   "metadata": {},
   "outputs": [
    {
     "name": "stdout",
     "output_type": "stream",
     "text": [
      "\n",
      "\n",
      "\u001b[1m> Entering new ConversationChain chain...\u001b[0m\n",
      "Prompt after formatting:\n",
      "\u001b[32;1m\u001b[1;3mThe following is a friendly conversation between a human and an AI. The AI is talkative and provides lots of specific details from its context. If the AI does not know the answer to a question, it truthfully says it does not know.\n",
      "\n",
      "Current conversation:\n",
      "\n",
      "Human: What is Apple's mission statement?\n",
      "AI:\u001b[0m\n",
      "\n",
      "\u001b[1m> Finished chain.\u001b[0m\n",
      "\n",
      "\n",
      "\u001b[1m> Entering new ConversationChain chain...\u001b[0m\n",
      "Prompt after formatting:\n",
      "\u001b[32;1m\u001b[1;3mThe following is a friendly conversation between a human and an AI. The AI is talkative and provides lots of specific details from its context. If the AI does not know the answer to a question, it truthfully says it does not know.\n",
      "\n",
      "Current conversation:\n",
      "\n",
      "The human asks about Apple's mission statement. The AI explains that it is \"to bring the best user experience to its customers through its innovative hardware, software, and services.\" This reflects the company's focus on user-friendly products, pushing technology boundaries, and providing excellent customer service.\n",
      "Human: Summarize your last response\n",
      "AI:\u001b[0m\n",
      "\n",
      "\u001b[1m> Finished chain.\u001b[0m\n",
      "\n",
      "\n",
      "\u001b[1m> Entering new ConversationChain chain...\u001b[0m\n",
      "Prompt after formatting:\n",
      "\u001b[32;1m\u001b[1;3mThe following is a friendly conversation between a human and an AI. The AI is talkative and provides lots of specific details from its context. If the AI does not know the answer to a question, it truthfully says it does not know.\n",
      "\n",
      "Current conversation:\n",
      "\n",
      "The human asks about Apple's mission statement and the AI explains that it is focused on providing the best user experience through innovative hardware, software, and services. This reflects the company's dedication to user-friendly products, pushing technology boundaries, and providing excellent customer service. The AI then summarizes its previous response, emphasizing Apple's mission statement and its key components.\n",
      "Human: Summarize it in even lesser words\n",
      "AI:\u001b[0m\n",
      "\n",
      "\u001b[1m> Finished chain.\u001b[0m\n",
      "\n",
      "\n",
      "\u001b[1m> Entering new ConversationChain chain...\u001b[0m\n",
      "Prompt after formatting:\n",
      "\u001b[32;1m\u001b[1;3mThe following is a friendly conversation between a human and an AI. The AI is talkative and provides lots of specific details from its context. If the AI does not know the answer to a question, it truthfully says it does not know.\n",
      "\n",
      "Current conversation:\n",
      "\n",
      "The human asks about Apple's mission statement and the AI explains that it is focused on providing the best user experience through innovative hardware, software, and services. This reflects the company's dedication to user-friendly products, pushing technology boundaries, and providing excellent customer service. The AI then summarizes its previous response, emphasizing Apple's mission statement and its key components. The AI further simplifies the summary, stating that Apple's mission is to create user-friendly products, push technology boundaries, and provide excellent customer service.\n",
      "Human: What was the first thing i asked you?\n",
      "AI:\u001b[0m\n",
      "\n",
      "\u001b[1m> Finished chain.\u001b[0m\n"
     ]
    },
    {
     "data": {
      "text/plain": [
       "\" You asked about Apple's mission statement. It is focused on providing the best user experience through innovative hardware, software, and services. This reflects the company's dedication to user-friendly products, pushing technology boundaries, and providing excellent customer service. In summary, Apple's mission is to create user-friendly products, push technology boundaries, and provide excellent customer service.\""
      ]
     },
     "execution_count": 16,
     "metadata": {},
     "output_type": "execute_result"
    }
   ],
   "source": [
    "summary_chain.predict(input = \"What is Apple's mission statement?\")\n",
    "summary_chain.predict(input=\"Summarize your last response\")\n",
    "summary_chain.predict(input=\"Summarize it in even lesser words\")\n",
    "summary_chain.predict(input=\"What was the first thing i asked you?\")\n"
   ]
  },
  {
   "cell_type": "code",
   "execution_count": 17,
   "metadata": {},
   "outputs": [
    {
     "name": "stdout",
     "output_type": "stream",
     "text": [
      "\n",
      "\n",
      "\u001b[1m> Entering new ConversationChain chain...\u001b[0m\n",
      "Prompt after formatting:\n",
      "\u001b[32;1m\u001b[1;3mThe following is a friendly conversation between a human and an AI. The AI is talkative and provides lots of specific details from its context. If the AI does not know the answer to a question, it truthfully says it does not know.\n",
      "\n",
      "Current conversation:\n",
      "\n",
      "The human asks about Apple's mission statement and the AI explains that it is focused on providing the best user experience through innovative hardware, software, and services. This reflects the company's dedication to user-friendly products, pushing technology boundaries, and providing excellent customer service. The AI then summarizes its previous response, emphasizing Apple's mission statement and its key components. The AI further simplifies the summary, stating that Apple's mission is to create user-friendly products, push technology boundaries, and provide excellent customer service. The human then asks the AI to repeat the first question, to which the AI responds by summarizing the initial conversation and reiterating Apple's mission statement and its focus on user experience, innovation, and customer service.\n",
      "Human: What is Apple's mission statement?\n",
      "AI:\u001b[0m\n",
      "\n",
      "\u001b[1m> Finished chain.\u001b[0m\n",
      "\n",
      "\n",
      "\u001b[1m> Entering new ConversationChain chain...\u001b[0m\n",
      "Prompt after formatting:\n",
      "\u001b[32;1m\u001b[1;3mThe following is a friendly conversation between a human and an AI. The AI is talkative and provides lots of specific details from its context. If the AI does not know the answer to a question, it truthfully says it does not know.\n",
      "\n",
      "Current conversation:\n",
      "\n",
      "The human asks about Apple's mission statement and the AI explains that it is focused on providing the best user experience through innovative hardware, software, and services. This reflects the company's dedication to user-friendly products, pushing technology boundaries, and providing excellent customer service. The AI then summarizes its previous response, emphasizing Apple's mission statement and its key components. The AI further simplifies the summary, stating that Apple's mission is to create user-friendly products, push technology boundaries, and provide excellent customer service. The human then asks the AI to repeat the first question, to which the AI responds by summarizing the initial conversation and reiterating Apple's mission statement and its focus on user experience, innovation, and customer service. The AI also offers to repeat the question for clarification.\n",
      "Human: In your view Is it better than Google's?\n",
      "AI:\u001b[0m\n",
      "\n",
      "\u001b[1m> Finished chain.\u001b[0m\n",
      "\n",
      "\n",
      "\u001b[1m> Entering new ConversationChain chain...\u001b[0m\n",
      "Prompt after formatting:\n",
      "\u001b[32;1m\u001b[1;3mThe following is a friendly conversation between a human and an AI. The AI is talkative and provides lots of specific details from its context. If the AI does not know the answer to a question, it truthfully says it does not know.\n",
      "\n",
      "Current conversation:\n",
      "\n",
      "The human asks about Apple's mission statement and the AI explains that it is focused on providing the best user experience through innovative hardware, software, and services. This reflects the company's dedication to user-friendly products, pushing technology boundaries, and providing excellent customer service. The AI then summarizes its previous response, emphasizing Apple's mission statement and its key components. The AI further simplifies the summary, stating that Apple's mission is to create user-friendly products, push technology boundaries, and provide excellent customer service. The human then asks the AI to repeat the first question, to which the AI responds by summarizing the initial conversation and reiterating Apple's mission statement and its focus on user experience, innovation, and customer service. The AI also offers to repeat the question for clarification. The human then asks the AI to compare Apple's mission statement to Google's, to which the AI responds by stating that it cannot accurately compare the two as it does not have enough information about Google's mission statement. However, based on Apple's focus on user experience, innovation, and customer service, it can be argued that their mission is unique and sets them apart from other companies, including Google. The AI offers to repeat the question for clarification.\n",
      "Human: Why do you think so?\n",
      "AI:\u001b[0m\n",
      "\n",
      "\u001b[1m> Finished chain.\u001b[0m\n",
      "\n",
      "\n",
      "\u001b[1m> Entering new ConversationChain chain...\u001b[0m\n",
      "Prompt after formatting:\n",
      "\u001b[32;1m\u001b[1;3mThe following is a friendly conversation between a human and an AI. The AI is talkative and provides lots of specific details from its context. If the AI does not know the answer to a question, it truthfully says it does not know.\n",
      "\n",
      "Current conversation:\n",
      "\n",
      "The human asks about Apple's mission statement and the AI explains that it is focused on providing the best user experience through innovative hardware, software, and services. The AI then summarizes its previous response, emphasizing Apple's mission statement and its key components. The human asks the AI to repeat the first question, to which the AI responds by summarizing the initial conversation and reiterating Apple's mission statement and its focus on user experience, innovation, and customer service. The AI also offers to repeat the question for clarification. The human then asks the AI to compare Apple's mission statement to Google's, to which the AI responds by stating that it cannot accurately compare the two as it does not have enough information about Google's mission statement. However, based on Apple's focus on user experience, innovation, and customer service, it can be argued that their mission is unique and sets them apart from other companies, including Google. The AI offers to repeat the question for clarification and explains that Apple's mission statement reflects their dedication to creating user-friendly products, pushing technology boundaries, and providing excellent customer service, which sets them apart from other companies.\n",
      "Human: What can be done to change the opinion?\n",
      "AI:\u001b[0m\n",
      "\n",
      "\u001b[1m> Finished chain.\u001b[0m\n"
     ]
    },
    {
     "data": {
      "text/plain": [
       "\" I'm not sure what opinion you are referring to. Can you please clarify?\""
      ]
     },
     "execution_count": 17,
     "metadata": {},
     "output_type": "execute_result"
    }
   ],
   "source": [
    "summary_chain.predict(input = \"What is Apple's mission statement?\")\n",
    "summary_chain.predict(input=\"In your view Is it better than Google's?\")\n",
    "summary_chain.predict(input=\"Why do you think so?\")\n",
    "summary_chain.predict(input=\"What can be done to change the opinion?\")\n"
   ]
  }
 ],
 "metadata": {
  "kernelspec": {
   "display_name": ".venv",
   "language": "python",
   "name": "python3"
  },
  "language_info": {
   "codemirror_mode": {
    "name": "ipython",
    "version": 3
   },
   "file_extension": ".py",
   "mimetype": "text/x-python",
   "name": "python",
   "nbconvert_exporter": "python",
   "pygments_lexer": "ipython3",
   "version": "3.11.9"
  }
 },
 "nbformat": 4,
 "nbformat_minor": 2
}
